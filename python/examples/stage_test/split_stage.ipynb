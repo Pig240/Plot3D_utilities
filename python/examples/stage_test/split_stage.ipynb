{
 "cells": [
  {
   "cell_type": "markdown",
   "metadata": {},
   "source": [
    "# Introduction \n",
    "In aerospace, we use plot3D files to represent the fluid domain around a geometry. This allows us to perform simulations and calculate flow physics inside of each cell/rectangle. Often the connectivity of these blocks are not easily obtainable. You would have to buy an expensive tool that will create the mesh and output some kind of connectivity file. Sometimes these files are proprietary which doesn't help research. This `plot3d` library in python can be used to find connectivity information and also split the blocks into smaller blocks for evaluation. \n",
    "\n",
    "**The goal with this project is to enable research and learning. You shouldn't need to purchase something expensive to calculate all this for you.**"
   ]
  },
  {
   "cell_type": "markdown",
   "metadata": {},
   "source": [
    "\n",
    "## Plot of Turbine Stage (Stator + Rotor Blocks)\n",
    "Below shows a plot in paraview of the `StageMesh.xyz` file. Each color represents a rectangular block with 6 sides. I've circled the blocks related to the stator and the blocks related to the rotor. It's important to plot this in paraview because this allows you to split the blocks into `Stator` blocks and `Rotor` blocks later. \n",
    "\n",
    "> Note: I am using paraview 5.10.1 to plot. Different versions of paraview may have differences in the way python macros are coded so you may see errors.\n",
    "\n",
    "![stage_mesh](stagemesh.png)\n"
   ]
  },
  {
   "cell_type": "markdown",
   "metadata": {},
   "source": [
    "## Objectives of this Notebook\n",
    "1. Split the blocks and find connectivity\n",
    "2. Identify surfaces that should be marked as solid\n",
    "3. Identify the mixing plane location \n",
    "\n",
    "![mixing plane](stage_mixing_plane.png)"
   ]
  },
  {
   "cell_type": "code",
   "execution_count": null,
   "metadata": {},
   "outputs": [],
   "source": [
    "# Imports\n",
    "import sys\n",
    "from typing import List\n",
    "from plot3d import read_plot3D, connectivity_fast, rotated_periodicity, write_plot3D, Direction, split_blocks\n",
    "import os, pickle\n",
    "import numpy as np\n",
    "import json "
   ]
  },
  {
   "cell_type": "markdown",
   "metadata": {},
   "source": [
    "## Sanity Check Finding negative volumes. \n",
    "This should be done before doing anything else. A negative volume will certainly crash the solver."
   ]
  },
  {
   "cell_type": "code",
   "execution_count": null,
   "metadata": {},
   "outputs": [],
   "source": [
    "mesh_filename = 'StageMesh.xyz'\n",
    "print(\"Reading mesh\")\n",
    "blocks = read_plot3D(mesh_filename,binary=True,big_endian=False)\n",
    "\n",
    "# This part checks for negative volumes \n",
    "lines = list() \n",
    "negative_volumes = False\n",
    "\n",
    "# for i in range(len(blocks)):\n",
    "#     v = blocks[i].cell_volumes()\n",
    "#     if np.min(v)<0:\n",
    "#         negative_volumes = True\n",
    "#         lines.append(f'negative volume found in block number: {i} \\n')\n",
    "#         print(lines[-1])\n",
    "\n",
    "# if negative_volumes:\n",
    "#     with open('negative_volume.txt', 'w') as f:\n",
    "#         for line in lines:\n",
    "#             f.write(line)\n",
    "            "
   ]
  },
  {
   "cell_type": "markdown",
   "metadata": {},
   "source": [
    "## Creating the mesh for stator and rotor\n",
    "In this step, what I did was plot the entire geometry in paraview then deactivated the blocks to figure out which blocks belonged to the stator and rotor.\n",
    "Blocks 0 to 3 are for the stator and the rest are the rotor. The code below splits the blocks and exports stator and rotor separately. "
   ]
  },
  {
   "cell_type": "code",
   "execution_count": null,
   "metadata": {},
   "outputs": [],
   "source": [
    "stator_blocks = [blocks[i] for i in range(0,4)]\n",
    "rotor_blocks = [blocks[i] for i in range(4,len(blocks))]\n",
    "write_plot3D('stator.xyz',stator_blocks,binary=True)\n",
    "write_plot3D('rotor.xyz',rotor_blocks,binary=True)\n",
    "stator_blocks_split = split_blocks(stator_blocks,500000, direction=Direction.i) # Splits the blocks while keeping the gcd. 380,000 is a rough number that it tries to match\n",
    "rotor_blocks_split = split_blocks(rotor_blocks,500000, direction=Direction.i)\n",
    "write_plot3D('stator_split.xyz',stator_blocks_split,binary=True)\n",
    "write_plot3D('rotor_split.xyz',rotor_blocks_split,binary=True)"
   ]
  },
  {
   "cell_type": "markdown",
   "metadata": {},
   "source": [
    "## Step 1: Split the blocks and find the connectivity\n",
    "Splitting the blocks into smaller blocks can help the solver run much faster. To improve the time it takes to split and find connectivity/periodicity. You need to ensure each block of your original mesh is divisible by at least 4. The higher the greatest common divisor (gcd), the faster you get the connectivity information "
   ]
  },
  {
   "cell_type": "code",
   "execution_count": null,
   "metadata": {},
   "outputs": [],
   "source": [
    "def find_connectivity(filename:str,nblades:int):\n",
    "    blocks = read_plot3D(f'{filename}.xyz',binary=True,big_endian=False)\n",
    "    # Finds the connectivity \n",
    "    if not os.path.exists(f'{filename}_connectivity.pickle'):\n",
    "        print('checking connectivity')\n",
    "        face_matches, outer_faces_formatted = connectivity_fast(blocks)\n",
    "        with open(f'{filename}_connectivity.pickle','wb') as f:\n",
    "            [m.pop('match',None) for m in face_matches] # Remove the dataframe\n",
    "            pickle.dump({\"face_matches\":face_matches, \"outer_faces\":outer_faces_formatted},f)\n",
    "\n",
    "\n",
    "    # Finds the periodicity once connectivity is found   \n",
    "    with open(f'{filename}_connectivity.pickle','rb') as f:\n",
    "        data = pickle.load(f)\n",
    "        face_matches = data['face_matches']\n",
    "        outer_faces = data['outer_faces']\n",
    "    \n",
    "    print(\"Find periodicity\")\n",
    "    rotation_angle = 360.0/nblades \n",
    "    periodic_surfaces, outer_faces_to_keep,periodic_faces,outer_faces = rotated_periodicity(blocks,face_matches,outer_faces,rotation_axis='x',rotation_angle=rotation_angle)\n",
    "\n",
    "    with open(f'{filename}_connectivity_periodicity.pickle','wb') as f:\n",
    "        [m.pop('match',None) for m in face_matches] # Remove the dataframe\n",
    "        pickle.dump({\n",
    "            \"face_matches\":face_matches,\n",
    "            \"periodic_faces\":periodic_surfaces,\n",
    "            \"outer_faces\":outer_faces_to_keep       \n",
    "            },f)"
   ]
  },
  {
   "cell_type": "code",
   "execution_count": null,
   "metadata": {},
   "outputs": [],
   "source": [
    "find_connectivity(filename=\"stator_split\",nblades=55)\n",
    "find_connectivity(filename=\"rotor_split\",nblades=60)"
   ]
  },
  {
   "cell_type": "markdown",
   "metadata": {},
   "source": [
    "## Plotting the Connectivity Information in Paraview\n",
    "This tutorial was tested using Paraview 5.10.1. Different versions of paraview may not work. They keep changing things in the pvpython library that breaks compatibility with earlier versions. If there's a major update to paraview that you require support for for example version 6 or 5.20.1 then file a github issue and I'll take a look at it; but if it's 5.11.1 then no, because it's a minor update. Also feel free to submit fixes to pv_library.py for newer versions of paraview. \n",
    "\n",
    "There's 2 files that you need for plotting with paraview `pv_library.py` and `pv_stator_plot.py`. You will have to call paraview executable from within this directory using command prompt(windows)\n",
    "\n",
    "[![Watch the video](https://img.youtube.com/vi/bgSSJQolR0E/default.jpg)](https://www.youtube.com/watch?v=bgSSJQolR0E)\n",
    "\n",
    "\n",
    "\n",
    "1. Open command prompt in the directory containing `pv_stator_plot.py` and the `.xyz files`\n",
    "2. Find the path to paraview. For me it's this path: `\"C:\\Program Files\\ParaView 5.10.1-Windows-Python3.9-msvc2017-AMD64\\bin\\paraview.exe\" --script=pv_stator_plot.py`\n",
    "3. Hit [Enter] and this should load paraview and plot the connectivities from the pickle file. \n",
    "\n",
    "You can view the contents of `pv_stator_plot.py` to see how the connectivity information is structured. "
   ]
  },
  {
   "cell_type": "markdown",
   "metadata": {},
   "source": [
    "![stator paraview](stator_paraview.png)"
   ]
  },
  {
   "cell_type": "markdown",
   "metadata": {},
   "source": [
    "## Step 2: Identifying key surfaces \n",
    "Now that the data is in paraview you can select the surfaces and identify which ones are the blade and mixing plane. \n",
    "\n",
    "**Blade surface** I use paraview to help identify the block and the surface (IMIN, JMIN, KMIN) In the code below you'll see where I've identified the stator_body, hub, and mixing plane. I do the same for the rotor. "
   ]
  },
  {
   "cell_type": "code",
   "execution_count": null,
   "metadata": {},
   "outputs": [],
   "source": [
    "from plot3d import Face, find_connected_face,find_face,read_plot3D\n",
    "import pickle\n",
    "import numpy as np \n",
    "# Stator \n",
    "blocks = read_plot3D('stator_split.xyz',binary=True)\n",
    "with open('stator_split_connectivity_periodicity.pickle','rb') as f:\n",
    "    data = pickle.load(f)\n",
    "    face_matches = data['face_matches']\n",
    "    outer_faces = data['outer_faces']\n",
    "\n",
    "# Stator body\n",
    "block_id = 14; indices = np.array([0,0,0,52,148,0], dtype=int) # this is the face we need to find matches for\n",
    "stator_face_to_match = find_face(blocks,block_id, indices,outer_faces)\n",
    "stator_faces,outer_faces = find_connected_face(blocks,stator_face_to_match, outer_faces)\n",
    "stator_faces.append(stator_face_to_match.to_dict())\n",
    "\n",
    "# Stator Hub\n",
    "block_id = 0; indices = np.array([0,0,0,32,0,76],dtype=int)\n",
    "stator_hub_to_match = find_face(blocks,block_id, indices,outer_faces)\n",
    "stator_hub, outer_faces = find_connected_face(blocks,stator_hub_to_match, outer_faces)\n",
    "stator_hub.append(stator_hub_to_match.to_dict())\n",
    "\n",
    "\n",
    "# Stator Shroud\n",
    "block_id = 0; indices = np.array([0,148,0,32,148,76],dtype=int)\n",
    "stator_shroud_to_match = find_face(blocks,block_id, indices,outer_faces)\n",
    "stator_shroud, outer_faces = find_connected_face(blocks,stator_shroud_to_match, outer_faces)\n",
    "stator_shroud.append(stator_shroud_to_match.to_dict())\n",
    "\n",
    "# Mixing Plane\n",
    "block_id = 9; indices = np.array([36, 0,0, 36,148,36], dtype=int)\n",
    "mixing_plane_face_to_match = find_face(blocks,block_id, indices,outer_faces)\n",
    "stator_mixing_plane_faces, outer_faces = find_connected_face(blocks,stator_face_to_match, outer_faces)\n",
    "stator_mixing_plane_faces.append(stator_face_to_match.to_dict())\n",
    "\n",
    "data['outer_faces'] = outer_faces\n",
    "data['mixing_plane'] = stator_mixing_plane_faces\n",
    "data['stator_body'] = stator_faces\n",
    "data['stator_shroud'] = stator_shroud\n",
    "data['stator_hub'] = stator_hub\n",
    "\n",
    "with open('stator_split_connectivity_final.pickle','wb') as f:\n",
    "    pickle.dump(data, f, protocol=pickle.HIGHEST_PROTOCOL)\n"
   ]
  },
  {
   "cell_type": "code",
   "execution_count": null,
   "metadata": {},
   "outputs": [],
   "source": [
    "# Rotor\n",
    "blocks = read_plot3D('rotor_split.xyz',binary=True)\n",
    "with open('rotor_split_connectivity_periodicity.pickle','rb') as f:\n",
    "    data = pickle.load(f)\n",
    "    face_matches = data['face_matches']\n",
    "    outer_faces = data['outer_faces']\n",
    "\n",
    "# Mixing Plane\n",
    "block_id = 0; indices = np.array([0,0,0,0,148,76], dtype=int) # this is the face we need to find matches for\n",
    "rotor_mixing_plane_face_to_match = find_face(blocks,block_id, indices,outer_faces)\n",
    "rotor_mixing_plane_faces, outer_faces = find_connected_face(blocks,rotor_mixing_plane_face_to_match, outer_faces)# Should match with block 10 [0,0,0,0,148,52]\n",
    "rotor_mixing_plane_faces.append(rotor_mixing_plane_face_to_match.to_dict())  \n",
    "\n",
    "# Rotor body\n",
    "block_id = 15; indices = np.array([0,0,0,52,148,0],dtype=int)\n",
    "rotor_face_to_match = find_face(blocks,block_id, indices,outer_faces)\n",
    "rotor_faces, outer_faces = find_connected_face(blocks,rotor_mixing_plane_face_to_match, outer_faces)\n",
    "rotor_faces.append(rotor_face_to_match.to_dict())\n",
    "\n",
    "# Rotor Hub\n",
    "block_id = 0; indices = np.array([0,148,0,32,148,76],dtype=int)\n",
    "rotor_hub_to_match = find_face(blocks,block_id, indices,outer_faces)\n",
    "rotor_hub, outer_faces = find_connected_face(blocks,rotor_hub_to_match, outer_faces)\n",
    "rotor_hub.append(rotor_hub_to_match.to_dict())\n",
    "\n",
    "# Rotor Shroud\n",
    "block_id = 0; indices = np.array([0,0,0,32,0,76],dtype=int)\n",
    "rotor_shroud_to_match = find_face(blocks,block_id, indices,outer_faces)\n",
    "rotor_shroud, outer_faces = find_connected_face(blocks,rotor_hub_to_match, outer_faces)\n",
    "rotor_shroud.append(rotor_shroud_to_match.to_dict())\n",
    "\n",
    "data['outer_faces'] = outer_faces\n",
    "data['mixing_plane'] = rotor_mixing_plane_faces\n",
    "data['rotor_body'] = rotor_faces\n",
    "data['rotor_hub'] = rotor_hub\n",
    "data['rotor_shroud'] = rotor_shroud\n",
    "\n",
    "with open('rotor_split_connectivity_final.pickle','wb') as f:\n",
    "    pickle.dump(data, f, protocol=pickle.HIGHEST_PROTOCOL)"
   ]
  },
  {
   "cell_type": "markdown",
   "metadata": {},
   "source": [
    "# Putting it all together\n",
    "The code below combines the connectivity, periodicity, surface information and exports it to a JSON file. "
   ]
  }
 ],
 "metadata": {
  "kernelspec": {
   "display_name": "Python 3.10.4 ('dev')",
   "language": "python",
   "name": "python3"
  },
  "language_info": {
   "codemirror_mode": {
    "name": "ipython",
    "version": 3
   },
   "file_extension": ".py",
   "mimetype": "text/x-python",
   "name": "python",
   "nbconvert_exporter": "python",
   "pygments_lexer": "ipython3",
   "version": "3.10.4"
  },
  "orig_nbformat": 4,
  "vscode": {
   "interpreter": {
    "hash": "4a044da88c5a9eacc92c27dda77751514e6feccdf99eb82b6312849b57b7fcec"
   }
  }
 },
 "nbformat": 4,
 "nbformat_minor": 2
}
