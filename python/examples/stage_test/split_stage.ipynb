{
 "cells": [
  {
   "cell_type": "markdown",
   "metadata": {},
   "source": [
    "# Introduction \n",
    "In aerospace, we use plot3D files to represent the fluid domain around a geometry. This allows us to perform simulations and calculate flow physics inside of each cell/rectangle. Often the connectivity of these blocks are not easily obtainable. You would have to buy an expensive tool that will create the mesh and output some kind of connectivity file. Sometimes these files are proprietary which doesn't help research. This `plot3d` library in python can be used to find connectivity information and also split the blocks into smaller blocks for evaluation. \n",
    "\n",
    "**The goal with this project is to enable research and learning. You shouldn't need to purchase something expensive to calculate all this for you.**"
   ]
  },
  {
   "cell_type": "markdown",
   "metadata": {},
   "source": [
    "\n",
    "## Plot of Turbine Stage (Stator + Rotor Blocks)\n",
    "Below shows a plot in paraview of the `StageMesh.xyz` file. Each color represents a rectangular block with 6 sides. I've circled the blocks related to the stator and the blocks related to the rotor. It's important to plot this in paraview because this allows you to split the blocks into `Stator` blocks and `Rotor` blocks later. \n",
    "\n",
    "> Note: I am using paraview 5.10.1 to plot. Different versions of paraview may have differences in the way python macros are coded so you may see errors.\n",
    "\n",
    "![stage_mesh](stagemesh.png)\n"
   ]
  },
  {
   "cell_type": "markdown",
   "metadata": {},
   "source": [
    "## Objectives of this Notebook\n",
    "1. Split the blocks and find connectivity\n",
    "2. Identify surfaces that should be marked as solid\n",
    "3. Identify the mixing plane location \n",
    "\n",
    "![mixing plane](stage_mixing_plane.png)"
   ]
  },
  {
   "cell_type": "code",
   "execution_count": 17,
   "metadata": {},
   "outputs": [],
   "source": [
    "# Imports\n",
    "import sys\n",
    "from typing import List\n",
    "from plot3d import read_plot3D, connectivity_fast, rotated_periodicity, write_plot3D, Direction, split_blocks\n",
    "import os, pickle\n",
    "import numpy as np\n",
    "import json "
   ]
  },
  {
   "cell_type": "markdown",
   "metadata": {},
   "source": [
    "## Sanity Check Finding negative volumes. \n",
    "This should be done before doing anything else. A negative volume will certainly crash the solver."
   ]
  },
  {
   "cell_type": "code",
   "execution_count": 18,
   "metadata": {},
   "outputs": [
    {
     "name": "stdout",
     "output_type": "stream",
     "text": [
      "Reading mesh\n"
     ]
    }
   ],
   "source": [
    "mesh_filename = 'StageMesh.xyz'\n",
    "print(\"Reading mesh\")\n",
    "blocks = read_plot3D(mesh_filename,binary=True,big_endian=False)\n",
    "\n",
    "# This part checks for negative volumes \n",
    "lines = list() \n",
    "negative_volumes = False\n",
    "\n",
    "# for i in range(len(blocks)):\n",
    "#     v = blocks[i].cell_volumes()\n",
    "#     if np.min(v)<0:\n",
    "#         negative_volumes = True\n",
    "#         lines.append(f'negative volume found in block number: {i} \\n')\n",
    "#         print(lines[-1])\n",
    "\n",
    "# if negative_volumes:\n",
    "#     with open('negative_volume.txt', 'w') as f:\n",
    "#         for line in lines:\n",
    "#             f.write(line)\n",
    "            "
   ]
  },
  {
   "cell_type": "markdown",
   "metadata": {},
   "source": [
    "## Creating the mesh for stator and rotor\n",
    "In this step, what I did was plot the entire geometry in paraview then deactivated the blocks to figure out which blocks belonged to the stator and rotor.\n",
    "Blocks 0 to 3 are for the stator and the rest are the rotor. The code below splits the blocks and exports stator and rotor separately. "
   ]
  },
  {
   "cell_type": "code",
   "execution_count": 19,
   "metadata": {},
   "outputs": [],
   "source": [
    "stator_blocks = [blocks[i] for i in range(0,4)]\n",
    "rotor_blocks = [blocks[i] for i in range(4,len(blocks))]\n",
    "write_plot3D('stator.xyz',stator_blocks,binary=True)\n",
    "write_plot3D('rotor.xyz',rotor_blocks,binary=True)\n",
    "stator_blocks_split = split_blocks(stator_blocks,500000, direction=Direction.i) # Splits the blocks while keeping the gcd. 380,000 is a rough number that it tries to match\n",
    "rotor_blocks_split = split_blocks(rotor_blocks,500000, direction=Direction.i)\n",
    "write_plot3D('stator_split.xyz',stator_blocks_split,binary=True)\n",
    "write_plot3D('rotor_split.xyz',rotor_blocks_split,binary=True)"
   ]
  },
  {
   "cell_type": "markdown",
   "metadata": {},
   "source": [
    "## Step 1: Split the blocks and find the connectivity\n",
    "Splitting the blocks into smaller blocks can help the solver run much faster. To improve the time it takes to split and find connectivity/periodicity. You need to ensure each block of your original mesh is divisible by at least 4. The higher the greatest common divisor (gcd), the faster you get the connectivity information "
   ]
  },
  {
   "cell_type": "code",
   "execution_count": 20,
   "metadata": {},
   "outputs": [],
   "source": [
    "def find_connectivity(filename:str,nblades:int):\n",
    "    blocks = read_plot3D(f'{filename}.xyz',binary=True,big_endian=False)\n",
    "    # Finds the connectivity \n",
    "    if not os.path.exists(f'{filename}_connectivity.pickle'):\n",
    "        print('checking connectivity')\n",
    "        face_matches, outer_faces_formatted = connectivity_fast(blocks)\n",
    "        with open(f'{filename}_connectivity.pickle','wb') as f:\n",
    "            [m.pop('match',None) for m in face_matches] # Remove the dataframe\n",
    "            pickle.dump({\"face_matches\":face_matches, \"outer_faces\":outer_faces_formatted},f)\n",
    "\n",
    "\n",
    "    # Finds the periodicity once connectivity is found   \n",
    "    with open(f'{filename}_connectivity.pickle','rb') as f:\n",
    "        data = pickle.load(f)\n",
    "        face_matches = data['face_matches']\n",
    "        outer_faces = data['outer_faces']\n",
    "    \n",
    "    print(\"Find periodicity\")\n",
    "    rotation_angle = 360.0/nblades \n",
    "    periodic_surfaces, outer_faces_to_keep,periodic_faces,outer_faces = rotated_periodicity(blocks,face_matches,outer_faces,rotation_axis='x',rotation_angle=rotation_angle)\n",
    "\n",
    "    with open(f'{filename}_connectivity_periodicity.pickle','wb') as f:\n",
    "        [m.pop('match',None) for m in face_matches] # Remove the dataframe\n",
    "        pickle.dump({\n",
    "            \"face_matches\":face_matches,\n",
    "            \"periodic_faces\":periodic_surfaces,\n",
    "            \"outer_faces\":outer_faces_to_keep       \n",
    "            },f)"
   ]
  },
  {
   "cell_type": "code",
   "execution_count": 21,
   "metadata": {},
   "outputs": [
    {
     "name": "stdout",
     "output_type": "stream",
     "text": [
      "checking connectivity\n",
      "gcd to use 4\n"
     ]
    },
    {
     "name": "stderr",
     "output_type": "stream",
     "text": [
      "Checking connections block 12 with 13: 100%|██████████| 91/91 [02:20<00:00,  1.54s/it]\n"
     ]
    },
    {
     "name": "stdout",
     "output_type": "stream",
     "text": [
      "Find periodicity\n"
     ]
    },
    {
     "name": "stderr",
     "output_type": "stream",
     "text": [
      "Checking connections block 10 with 1:   7%|▋         | 274/3660 [00:05<01:13, 46.10it/s] \n",
      "Checking connections block 5 with 7:  54%|█████▍    | 1974/3660 [00:46<00:39, 42.45it/s]   \n",
      "Checking connections block 8 with 4:  74%|███████▍  | 2529/3422 [00:58<00:20, 43.50it/s]   \n",
      "Checking connections block 9 with 2:  72%|███████▏  | 2469/3422 [00:57<00:22, 43.02it/s]   \n",
      "Checking connections block 6 with 0:  70%|███████   | 2410/3422 [00:56<00:23, 42.51it/s]   \n",
      "Checking connections block 10 with 2:  91%|█████████▏| 3019/3306 [01:01<00:05, 49.20it/s]  \n",
      "Checking connections block 9 with 3:  97%|█████████▋| 3002/3080 [01:01<00:01, 48.69it/s]   \n",
      "Checking connections block 6 with 1:  98%|█████████▊| 2912/2970 [00:58<00:01, 49.86it/s]   \n",
      "Checking connections block 9 with 4: 100%|█████████▉| 2755/2756 [00:59<00:00, 46.41it/s]   \n",
      "Checking connections block 8 with 5: 100%|██████████| 2550/2550 [00:59<00:00, 43.03it/s]   \n"
     ]
    },
    {
     "name": "stdout",
     "output_type": "stream",
     "text": [
      "checking connectivity\n",
      "gcd to use 4\n"
     ]
    },
    {
     "name": "stderr",
     "output_type": "stream",
     "text": [
      "Checking connections block 22 with 23: 100%|██████████| 276/276 [06:14<00:00,  1.36s/it]\n"
     ]
    },
    {
     "name": "stdout",
     "output_type": "stream",
     "text": [
      "Find periodicity\n"
     ]
    },
    {
     "name": "stderr",
     "output_type": "stream",
     "text": [
      "Checking connections block 10 with 4:   1%|          | 52/9506 [00:00<01:29, 105.91it/s] \n",
      "Checking connections block 20 with 20:  24%|██▎       | 2248/9506 [00:44<02:23, 50.54it/s] \n",
      "Checking connections block 19 with 19:  23%|██▎       | 2106/9120 [00:43<02:26, 48.01it/s] \n",
      "Checking connections block 21 with 21:  23%|██▎       | 1969/8742 [00:36<02:07, 53.26it/s] \n",
      "Checking connections block 18 with 18:  22%|██▏       | 1835/8372 [00:35<02:06, 51.79it/s] \n",
      "Checking connections block 0 with 8:  33%|███▎      | 2609/8010 [00:56<01:56, 46.53it/s]   \n",
      "Checking connections block 1 with 8:  51%|█████     | 3959/7832 [01:19<01:17, 49.85it/s]   \n",
      "Checking connections block 23 with 23:  59%|█████▉    | 4403/7482 [01:41<01:11, 43.35it/s] \n",
      "Checking connections block 11 with 3:  58%|█████▊    | 4340/7482 [01:37<01:10, 44.30it/s]  \n",
      "Checking connections block 12 with 1:  56%|█████▋    | 4221/7482 [01:36<01:14, 43.56it/s]  \n",
      "Checking connections block 9 with 7:  66%|██████▌   | 4797/7310 [01:40<00:52, 47.64it/s]   \n",
      "Checking connections block 22 with 22:  90%|████████▉ | 6398/7140 [02:10<00:15, 49.04it/s] \n",
      "Checking connections block 10 with 5:  92%|█████████▏| 6269/6806 [02:15<00:11, 46.31it/s]  \n",
      "Checking connections block 11 with 4:  96%|█████████▌| 6234/6480 [02:11<00:05, 47.42it/s]  \n",
      "Checking connections block 12 with 2:  98%|█████████▊| 6042/6162 [02:07<00:02, 47.21it/s]  \n",
      "Checking connections block 9 with 6:  98%|█████████▊| 5888/6006 [02:07<00:02, 46.25it/s]   \n",
      "Checking connections block 2 with 11: 100%|██████████| 5700/5700 [02:08<00:00, 44.36it/s]  \n"
     ]
    }
   ],
   "source": [
    "find_connectivity(filename=\"stator_split\",nblades=55)\n",
    "find_connectivity(filename=\"rotor_split\",nblades=60)"
   ]
  },
  {
   "cell_type": "markdown",
   "metadata": {},
   "source": [
    "## Plotting the Connectivity Information in Paraview\n",
    "This tutorial was tested using Paraview 5.10.1. Different versions of paraview may not work. They keep changing things in the pvpython library that breaks compatibility with earlier versions. If there's a major update to paraview that you require support for for example version 6 or 5.20.1 then file a github issue and I'll take a look at it; but if it's 5.11.1 then no, because it's a minor update. Also feel free to submit fixes to pv_library.py for newer versions of paraview. \n",
    "\n",
    "There's 2 files that you need for plotting with paraview `pv_library.py` and `pv_stator_plot.py`. You will have to call paraview executable from within this directory using command prompt(windows)\n",
    "\n",
    "[![Watch the video](https://img.youtube.com/vi/bgSSJQolR0E/default.jpg)](https://www.youtube.com/watch?v=bgSSJQolR0E)\n",
    "\n",
    "\n",
    "\n",
    "1. Open command prompt in the directory containing `pv_stator_plot.py` and the `.xyz files`\n",
    "2. Find the path to paraview. For me it's this path: `\"C:\\Program Files\\ParaView 5.10.1-Windows-Python3.9-msvc2017-AMD64\\bin\\paraview.exe\" --script=pv_stator_plot.py`\n",
    "3. Hit [Enter] and this should load paraview and plot the connectivities from the pickle file. \n",
    "\n",
    "You can view the contents of `pv_stator_plot.py` to see how the connectivity information is structured. "
   ]
  },
  {
   "cell_type": "markdown",
   "metadata": {},
   "source": [
    "![stator paraview](stator_paraview.png)"
   ]
  },
  {
   "cell_type": "markdown",
   "metadata": {},
   "source": [
    "## Step 2: Identifying key surfaces \n",
    "Now that the data is in paraview you can select the surfaces and identify which ones are the blade and mixing plane. \n",
    "\n",
    "**Blade surface** I use paraview to help identify the block and the surface (IMIN, JMIN, KMIN) In the code below you'll see where I've identified the stator_body, hub, and mixing plane. I do the same for the rotor. "
   ]
  },
  {
   "cell_type": "code",
   "execution_count": 22,
   "metadata": {},
   "outputs": [
    {
     "ename": "AttributeError",
     "evalue": "'NoneType' object has no attribute 'BlockIndex'",
     "output_type": "error",
     "traceback": [
      "\u001b[1;31m---------------------------------------------------------------------------\u001b[0m",
      "\u001b[1;31mAttributeError\u001b[0m                            Traceback (most recent call last)",
      "\u001b[1;32mc:\\GitHub\\Plot3D_utilities\\python\\examples\\stage_test\\split_stage.ipynb Cell 15\u001b[0m in \u001b[0;36m<cell line: 14>\u001b[1;34m()\u001b[0m\n\u001b[0;32m     <a href='vscode-notebook-cell:/c%3A/GitHub/Plot3D_utilities/python/examples/stage_test/split_stage.ipynb#X20sZmlsZQ%3D%3D?line=11'>12</a>\u001b[0m block_id \u001b[39m=\u001b[39m \u001b[39m14\u001b[39m; indices \u001b[39m=\u001b[39m np\u001b[39m.\u001b[39marray([\u001b[39m0\u001b[39m,\u001b[39m0\u001b[39m,\u001b[39m0\u001b[39m,\u001b[39m52\u001b[39m,\u001b[39m148\u001b[39m,\u001b[39m0\u001b[39m], dtype\u001b[39m=\u001b[39m\u001b[39mint\u001b[39m) \u001b[39m# this is the face we need to find matches for\u001b[39;00m\n\u001b[0;32m     <a href='vscode-notebook-cell:/c%3A/GitHub/Plot3D_utilities/python/examples/stage_test/split_stage.ipynb#X20sZmlsZQ%3D%3D?line=12'>13</a>\u001b[0m stator_face_to_match \u001b[39m=\u001b[39m find_face(blocks,block_id, indices,outer_faces)\n\u001b[1;32m---> <a href='vscode-notebook-cell:/c%3A/GitHub/Plot3D_utilities/python/examples/stage_test/split_stage.ipynb#X20sZmlsZQ%3D%3D?line=13'>14</a>\u001b[0m stator_faces,outer_faces \u001b[39m=\u001b[39m find_connected_face(blocks,stator_face_to_match, outer_faces)\n\u001b[0;32m     <a href='vscode-notebook-cell:/c%3A/GitHub/Plot3D_utilities/python/examples/stage_test/split_stage.ipynb#X20sZmlsZQ%3D%3D?line=14'>15</a>\u001b[0m stator_faces\u001b[39m.\u001b[39mappend(stator_face_to_match\u001b[39m.\u001b[39mto_dict())\n\u001b[0;32m     <a href='vscode-notebook-cell:/c%3A/GitHub/Plot3D_utilities/python/examples/stage_test/split_stage.ipynb#X20sZmlsZQ%3D%3D?line=16'>17</a>\u001b[0m \u001b[39m# Stator Hub\u001b[39;00m\n",
      "File \u001b[1;32mc:\\Users\\pjuangph\\.conda\\envs\\dev\\lib\\site-packages\\plot3d\\face.py:389\u001b[0m, in \u001b[0;36mfind_connected_face\u001b[1;34m(blocks, face, faces, look_for_linked)\u001b[0m\n\u001b[0;32m    386\u001b[0m     faces2[\u001b[39m-\u001b[39m\u001b[39m1\u001b[39m]\u001b[39m.\u001b[39mset_block_index(o[\u001b[39m'\u001b[39m\u001b[39mblock_index\u001b[39m\u001b[39m'\u001b[39m])\n\u001b[0;32m    387\u001b[0m faces \u001b[39m=\u001b[39m faces2\n\u001b[1;32m--> 389\u001b[0m faces \u001b[39m=\u001b[39m [f \u001b[39mfor\u001b[39;00m f \u001b[39min\u001b[39;00m faces \u001b[39mif\u001b[39;00m f\u001b[39m!=\u001b[39mface]\n\u001b[0;32m    390\u001b[0m connected_faces \u001b[39m=\u001b[39m \u001b[39mlist\u001b[39m() \u001b[39m# F\u001b[39;00m\n\u001b[0;32m    391\u001b[0m faces_to_search \u001b[39m=\u001b[39m [face]\n",
      "File \u001b[1;32mc:\\Users\\pjuangph\\.conda\\envs\\dev\\lib\\site-packages\\plot3d\\face.py:389\u001b[0m, in \u001b[0;36m<listcomp>\u001b[1;34m(.0)\u001b[0m\n\u001b[0;32m    386\u001b[0m     faces2[\u001b[39m-\u001b[39m\u001b[39m1\u001b[39m]\u001b[39m.\u001b[39mset_block_index(o[\u001b[39m'\u001b[39m\u001b[39mblock_index\u001b[39m\u001b[39m'\u001b[39m])\n\u001b[0;32m    387\u001b[0m faces \u001b[39m=\u001b[39m faces2\n\u001b[1;32m--> 389\u001b[0m faces \u001b[39m=\u001b[39m [f \u001b[39mfor\u001b[39;00m f \u001b[39min\u001b[39;00m faces \u001b[39mif\u001b[39;00m f\u001b[39m!=\u001b[39;49mface]\n\u001b[0;32m    390\u001b[0m connected_faces \u001b[39m=\u001b[39m \u001b[39mlist\u001b[39m() \u001b[39m# F\u001b[39;00m\n\u001b[0;32m    391\u001b[0m faces_to_search \u001b[39m=\u001b[39m [face]\n",
      "File \u001b[1;32mc:\\Users\\pjuangph\\.conda\\envs\\dev\\lib\\site-packages\\plot3d\\face.py:244\u001b[0m, in \u001b[0;36mFace.__ne__\u001b[1;34m(self, f)\u001b[0m\n\u001b[0;32m    235\u001b[0m \u001b[39mdef\u001b[39;00m \u001b[39m__ne__\u001b[39m(\u001b[39mself\u001b[39m,f):\n\u001b[0;32m    236\u001b[0m     \u001b[39m\"\"\"Checks if two faces are not equal \u001b[39;00m\n\u001b[0;32m    237\u001b[0m \n\u001b[0;32m    238\u001b[0m \u001b[39m    Args:\u001b[39;00m\n\u001b[1;32m   (...)\u001b[0m\n\u001b[0;32m    242\u001b[0m \u001b[39m        Boolean: True if faces match, False if no match is found \u001b[39;00m\n\u001b[0;32m    243\u001b[0m \u001b[39m    \"\"\"\u001b[39;00m\n\u001b[1;32m--> 244\u001b[0m     match \u001b[39m=\u001b[39m \u001b[39mself\u001b[39;49m\u001b[39m.\u001b[39;49m\u001b[39m__eq__\u001b[39;49m(f)\n\u001b[0;32m    245\u001b[0m     \u001b[39mreturn\u001b[39;00m \u001b[39mnot\u001b[39;00m match\n",
      "File \u001b[1;32mc:\\Users\\pjuangph\\.conda\\envs\\dev\\lib\\site-packages\\plot3d\\face.py:218\u001b[0m, in \u001b[0;36mFace.__eq__\u001b[1;34m(self, f)\u001b[0m\n\u001b[0;32m    207\u001b[0m \u001b[39m\"\"\"Check to see if two faces are the same by looking at the I,J,K\u001b[39;00m\n\u001b[0;32m    208\u001b[0m \u001b[39mChecks to see if any of vertices x,y,z match\u001b[39;00m\n\u001b[0;32m    209\u001b[0m \n\u001b[1;32m   (...)\u001b[0m\n\u001b[0;32m    214\u001b[0m \u001b[39m    Boolean: True if faces match, False if no match is found \u001b[39;00m\n\u001b[0;32m    215\u001b[0m \u001b[39m\"\"\"\u001b[39;00m\n\u001b[0;32m    216\u001b[0m \u001b[39m# matchedIndices = self.match_indices(f)\u001b[39;00m\n\u001b[0;32m    217\u001b[0m \u001b[39m# (len(matchedIndices)==self.nvertex) and\u001b[39;00m\n\u001b[1;32m--> 218\u001b[0m \u001b[39mreturn\u001b[39;00m ((\u001b[39mself\u001b[39m\u001b[39m.\u001b[39mBlockIndex \u001b[39m==\u001b[39m f\u001b[39m.\u001b[39;49mBlockIndex) \n\u001b[0;32m    219\u001b[0m     \u001b[39mand\u001b[39;00m (\u001b[39mself\u001b[39m\u001b[39m.\u001b[39mIMIN \u001b[39m==\u001b[39m f\u001b[39m.\u001b[39mIMIN) \u001b[39mand\u001b[39;00m (\u001b[39mself\u001b[39m\u001b[39m.\u001b[39mIMAX \u001b[39m==\u001b[39m f\u001b[39m.\u001b[39mIMAX) \n\u001b[0;32m    220\u001b[0m     \u001b[39mand\u001b[39;00m (\u001b[39mself\u001b[39m\u001b[39m.\u001b[39mJMIN \u001b[39m==\u001b[39m f\u001b[39m.\u001b[39mJMIN) \u001b[39mand\u001b[39;00m (\u001b[39mself\u001b[39m\u001b[39m.\u001b[39mJMAX \u001b[39m==\u001b[39m f\u001b[39m.\u001b[39mJMAX) \n\u001b[0;32m    221\u001b[0m     \u001b[39mand\u001b[39;00m (\u001b[39mself\u001b[39m\u001b[39m.\u001b[39mKMIN \u001b[39m==\u001b[39m f\u001b[39m.\u001b[39mKMIN) \u001b[39mand\u001b[39;00m (\u001b[39mself\u001b[39m\u001b[39m.\u001b[39mKMAX \u001b[39m==\u001b[39m f\u001b[39m.\u001b[39mKMAX) )\n",
      "\u001b[1;31mAttributeError\u001b[0m: 'NoneType' object has no attribute 'BlockIndex'"
     ]
    }
   ],
   "source": [
    "from plot3d import Face, find_connected_face,find_face,read_plot3D\n",
    "import pickle\n",
    "import numpy as np \n",
    "# Stator \n",
    "blocks = read_plot3D('stator_split.xyz',binary=True)\n",
    "with open('stator_split_connectivity_periodicity.pickle','rb') as f:\n",
    "    data = pickle.load(f)\n",
    "    face_matches = data['face_matches']\n",
    "    outer_faces = data['outer_faces']\n",
    "\n",
    "# Stator body\n",
    "block_id = 14; indices = np.array([0,0,0,52,148,0], dtype=int) # this is the face we need to find matches for\n",
    "stator_face_to_match = find_face(blocks,block_id, indices,outer_faces)\n",
    "stator_faces,outer_faces = find_connected_face(blocks,stator_face_to_match, outer_faces)\n",
    "stator_faces.append(stator_face_to_match.to_dict())\n",
    "\n",
    "# Stator Hub\n",
    "block_id = 0; indices = np.array([0,0,0,32,0,76],dtype=int)\n",
    "stator_hub_to_match = find_face(blocks,block_id, indices,outer_faces)\n",
    "stator_hub, outer_faces = find_connected_face(blocks,stator_hub_to_match, outer_faces)\n",
    "stator_hub.append(stator_hub_to_match.to_dict())\n",
    "\n",
    "\n",
    "# Stator Shroud\n",
    "block_id = 0; indices = np.array([0,148,0,32,148,76],dtype=int)\n",
    "stator_shroud_to_match = find_face(blocks,block_id, indices,outer_faces)\n",
    "stator_shroud, outer_faces = find_connected_face(blocks,stator_shroud_to_match, outer_faces)\n",
    "stator_shroud.append(stator_shroud_to_match.to_dict())\n",
    "\n",
    "# Mixing Plane\n",
    "block_id = 9; indices = np.array([36, 0,0, 36,148,36], dtype=int)\n",
    "mixing_plane_face_to_match = find_face(blocks,block_id, indices,outer_faces)\n",
    "stator_mixing_plane_faces, outer_faces = find_connected_face(blocks,stator_face_to_match, outer_faces)\n",
    "stator_mixing_plane_faces.append(stator_face_to_match.to_dict())\n",
    "\n",
    "data['outer_faces'] = outer_faces\n",
    "data['mixing_plane'] = stator_mixing_plane_faces\n",
    "data['stator_body'] = stator_faces\n",
    "data['stator_shroud'] = stator_shroud\n",
    "data['stator_hub'] = stator_hub\n",
    "\n",
    "with open('stator_split_connectivity_final.pickle','wb') as f:\n",
    "    pickle.dump(data, f, protocol=pickle.HIGHEST_PROTOCOL)\n"
   ]
  },
  {
   "cell_type": "code",
   "execution_count": null,
   "metadata": {},
   "outputs": [],
   "source": [
    "# Rotor\n",
    "blocks = read_plot3D('rotor_split.xyz',binary=True)\n",
    "with open('rotor_split_connectivity_periodicity.pickle','rb') as f:\n",
    "    data = pickle.load(f)\n",
    "    face_matches = data['face_matches']\n",
    "    outer_faces = data['outer_faces']\n",
    "\n",
    "# Mixing Plane\n",
    "block_id = 0; indices = np.array([0,0,0,0,148,76], dtype=int) # this is the face we need to find matches for\n",
    "rotor_mixing_plane_face_to_match = find_face(blocks,block_id, indices,outer_faces)\n",
    "rotor_mixing_plane_faces, outer_faces = find_connected_face(blocks,rotor_mixing_plane_face_to_match, outer_faces)# Should match with block 10 [0,0,0,0,148,52]\n",
    "rotor_mixing_plane_faces.append(rotor_mixing_plane_face_to_match.to_dict())  \n",
    "\n",
    "# Rotor body\n",
    "block_id = 15; indices = np.array([0,0,0,52,148,0],dtype=int)\n",
    "rotor_face_to_match = find_face(blocks,block_id, indices,outer_faces)\n",
    "rotor_faces, outer_faces = find_connected_face(blocks,rotor_mixing_plane_face_to_match, outer_faces)\n",
    "rotor_faces.append(rotor_face_to_match.to_dict())\n",
    "\n",
    "# Rotor Hub\n",
    "block_id = 0; indices = np.array([0,148,0,32,148,76],dtype=int)\n",
    "rotor_hub_to_match = find_face(blocks,block_id, indices,outer_faces)\n",
    "rotor_hub, outer_faces = find_connected_face(blocks,rotor_hub_to_match, outer_faces)\n",
    "rotor_hub.append(rotor_hub_to_match.to_dict())\n",
    "\n",
    "# Rotor Shroud\n",
    "block_id = 0; indices = np.array([0,0,0,32,0,76],dtype=int)\n",
    "rotor_shroud_to_match = find_face(blocks,block_id, indices,outer_faces)\n",
    "rotor_shroud, outer_faces = find_connected_face(blocks,rotor_hub_to_match, outer_faces)\n",
    "rotor_shroud.append(rotor_shroud_to_match.to_dict())\n",
    "\n",
    "data['outer_faces'] = outer_faces\n",
    "data['mixing_plane'] = rotor_mixing_plane_faces\n",
    "data['rotor_body'] = rotor_faces\n",
    "data['rotor_hub'] = rotor_hub\n",
    "data['rotor_shroud'] = rotor_shroud\n",
    "\n",
    "with open('rotor_split_connectivity_final.pickle','wb') as f:\n",
    "    pickle.dump(data, f, protocol=pickle.HIGHEST_PROTOCOL)"
   ]
  },
  {
   "cell_type": "markdown",
   "metadata": {},
   "source": [
    "# Putting it all together\n",
    "The code below combines the connectivity, periodicity, surface information and exports it to a JSON file. "
   ]
  }
 ],
 "metadata": {
  "kernelspec": {
   "display_name": "Python 3.10.4 ('dev')",
   "language": "python",
   "name": "python3"
  },
  "language_info": {
   "codemirror_mode": {
    "name": "ipython",
    "version": 3
   },
   "file_extension": ".py",
   "mimetype": "text/x-python",
   "name": "python",
   "nbconvert_exporter": "python",
   "pygments_lexer": "ipython3",
   "version": "3.10.4"
  },
  "orig_nbformat": 4,
  "vscode": {
   "interpreter": {
    "hash": "4a044da88c5a9eacc92c27dda77751514e6feccdf99eb82b6312849b57b7fcec"
   }
  }
 },
 "nbformat": 4,
 "nbformat_minor": 2
}
