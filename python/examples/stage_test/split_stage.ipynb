{
 "cells": [
  {
   "cell_type": "markdown",
   "metadata": {},
   "source": [
    "# Introduction \n",
    "In aerospace, we use plot3D files to represent the fluid domain around a geometry. This allows us to perform simulations and calculate flow physics inside of each cell/rectangle. Often the connectivity of these blocks are not easily obtainable. You would have to buy an expensive tool that will create the mesh and output some kind of connectivity file. Sometimes these files are proprietary which doesn't help research. This `plot3d` library in python can be used to find connectivity information and also split the blocks into smaller blocks for evaluation. \n",
    "\n",
    "**The goal with this project is to enable research and learning. You shouldn't need to purchase something expensive to calculate all this for you.**"
   ]
  },
  {
   "cell_type": "markdown",
   "metadata": {},
   "source": [
    "\n",
    "## Plot of Turbine Stage (Stator + Rotor Blocks)\n",
    "Below shows a plot in paraview of the `StageMesh.xyz` file. Each color represents a rectangular block with 6 sides. I've circled the blocks related to the stator and the blocks related to the rotor. It's important to plot this in paraview because this allows you to split the blocks into `Stator` blocks and `Rotor` blocks later. \n",
    "\n",
    "> Note: I am using paraview 5.10.1 to plot. Different versions of paraview may have differences in the way python macros are coded so you may see errors.\n",
    "\n",
    "![stage_mesh](stagemesh.png)\n"
   ]
  },
  {
   "cell_type": "markdown",
   "metadata": {},
   "source": [
    "## Objectives of this Notebook\n",
    "1. Split the blocks and find connectivity\n",
    "2. Identify surfaces that should be marked as solid\n",
    "3. Identify the mixing plane location \n",
    "\n",
    "![mixing plane](stage_mixing_plane.png)"
   ]
  },
  {
   "cell_type": "code",
   "execution_count": 5,
   "metadata": {},
   "outputs": [],
   "source": [
    "# Imports\n",
    "import sys\n",
    "from typing import List\n",
    "from plot3d import read_plot3D, connectivity_fast, rotated_periodicity, write_plot3D, Direction, split_blocks\n",
    "import os, pickle\n",
    "import numpy as np\n",
    "import json "
   ]
  },
  {
   "cell_type": "markdown",
   "metadata": {},
   "source": [
    "## Sanity Check Finding negative volumes. \n",
    "This should be done before doing anything else. A negative volume will certainly crash the solver."
   ]
  },
  {
   "cell_type": "code",
   "execution_count": 3,
   "metadata": {},
   "outputs": [
    {
     "name": "stdout",
     "output_type": "stream",
     "text": [
      "Reading mesh\n"
     ]
    },
    {
     "name": "stderr",
     "output_type": "stream",
     "text": [
      "Calculating the volumes: 100%|██████████| 76/76 [01:21<00:00,  1.08s/it]\n",
      "Calculating the volumes: 100%|██████████| 36/36 [00:09<00:00,  3.99it/s]\n",
      "Calculating the volumes: 100%|██████████| 36/36 [00:05<00:00,  6.70it/s]\n",
      "Calculating the volumes: 100%|██████████| 48/48 [01:19<00:00,  1.65s/it]\n",
      "Calculating the volumes: 100%|██████████| 76/76 [01:41<00:00,  1.34s/it]\n"
     ]
    },
    {
     "name": "stdout",
     "output_type": "stream",
     "text": [
      "negative volume found in block number: 4 \n",
      "\n"
     ]
    },
    {
     "name": "stderr",
     "output_type": "stream",
     "text": [
      "Calculating the volumes: 100%|██████████| 52/52 [00:12<00:00,  4.10it/s]\n",
      "Calculating the volumes: 100%|██████████| 52/52 [00:12<00:00,  4.27it/s]\n",
      "Calculating the volumes: 100%|██████████| 48/48 [01:38<00:00,  2.06s/it]\n",
      "Calculating the volumes: 100%|██████████| 128/128 [01:18<00:00,  1.63it/s]\n"
     ]
    }
   ],
   "source": [
    "mesh_filename = 'StageMesh.xyz'\n",
    "print(\"Reading mesh\")\n",
    "blocks = read_plot3D(mesh_filename,binary=True,big_endian=False)\n",
    "\n",
    "# This part checks for negative volumes \n",
    "lines = list() \n",
    "negative_volumes = False\n",
    "\n",
    "for i in range(len(blocks)):\n",
    "    v = blocks[i].cell_volumes()\n",
    "    if np.min(v)<0:\n",
    "        negative_volumes = True\n",
    "        lines.append(f'negative volume found in block number: {i} \\n')\n",
    "        print(lines[-1])\n",
    "\n",
    "if negative_volumes:\n",
    "    with open('negative_volume.txt', 'w') as f:\n",
    "        for line in lines:\n",
    "            f.write(line)\n",
    "            "
   ]
  },
  {
   "cell_type": "markdown",
   "metadata": {},
   "source": [
    "## Creating the mesh for stator and rotor\n",
    "In this step, what I did was plot the entire geometry in paraview then deactivated the blocks to figure out which blocks belonged to the stator and rotor.\n",
    "Blocks 0 to 3 are for the stator and the rest are the rotor. The code below splits the blocks and exports stator and rotor separately. "
   ]
  },
  {
   "cell_type": "code",
   "execution_count": 14,
   "metadata": {},
   "outputs": [],
   "source": [
    "stator_blocks = [blocks[i] for i in range(0,4)]\n",
    "rotor_blocks = [blocks[i] for i in range(4,len(blocks))]\n",
    "write_plot3D('stator.xyz',stator_blocks,binary=True)\n",
    "write_plot3D('rotor.xyz',rotor_blocks,binary=True)\n",
    "stator_blocks_split = split_blocks(stator_blocks,380000, direction=Direction.i) # Splits the blocks while keeping the gcd. 380,000 is a rough number that it tries to match\n",
    "rotor_blocks_split = split_blocks(rotor_blocks,380000, direction=Direction.i)\n",
    "write_plot3D('stator_split.xyz',stator_blocks_split,binary=True)\n",
    "write_plot3D('rotor_split.xyz',rotor_blocks_split,binary=True)"
   ]
  },
  {
   "cell_type": "markdown",
   "metadata": {},
   "source": [
    "## Step 1: Split the blocks and find the connectivity\n",
    "Splitting the blocks into smaller blocks can help the solver run much faster. To improve the time it takes to split and find connectivity/periodicity. You need to ensure each block of your original mesh is divisible by at least 4. The higher the greatest common divisor (gcd), the faster you get the connectivity information "
   ]
  },
  {
   "cell_type": "code",
   "execution_count": 16,
   "metadata": {},
   "outputs": [],
   "source": [
    "def find_connectivity(filename:str,nblades:int):\n",
    "    blocks = read_plot3D(f'{filename}.xyz',binary=True,big_endian=False)\n",
    "    # Finds the connectivity \n",
    "    if not os.path.exists(f'{filename}_connectivity.pickle'):\n",
    "        print('checking connectivity')\n",
    "        face_matches, outer_faces_formatted = connectivity_fast(blocks)\n",
    "        with open(f'{filename}_connectivity.pickle','wb') as f:\n",
    "            [m.pop('match',None) for m in face_matches] # Remove the dataframe\n",
    "            pickle.dump({\"face_matches\":face_matches, \"outer_faces\":outer_faces_formatted},f)\n",
    "\n",
    "\n",
    "    # Finds the periodicity once connectivity is found   \n",
    "    with open(f'{filename}_connectivity.pickle','rb') as f:\n",
    "        data = pickle.load(f)\n",
    "        face_matches = data['face_matches']\n",
    "        outer_faces = data['outer_faces']\n",
    "    \n",
    "    print(\"Find periodicity\")\n",
    "    rotation_angle = 360.0/nblades \n",
    "    periodic_surfaces, outer_faces_to_keep,periodic_faces,outer_faces = rotated_periodicity(blocks,face_matches,outer_faces,rotation_axis='x',rotation_angle=rotation_angle)\n",
    "\n",
    "    with open(f'{filename}_connectivity_periodicity.pickle','wb') as f:\n",
    "        [m.pop('match',None) for m in face_matches] # Remove the dataframe\n",
    "        pickle.dump({\n",
    "            \"face_matches\":face_matches,\n",
    "            \"periodic_faces\":periodic_surfaces,\n",
    "            \"outer_faces\":outer_faces_to_keep       \n",
    "            },f)"
   ]
  },
  {
   "cell_type": "code",
   "execution_count": 18,
   "metadata": {},
   "outputs": [
    {
     "name": "stdout",
     "output_type": "stream",
     "text": [
      "checking connectivity\n",
      "gcd to use 4\n"
     ]
    },
    {
     "name": "stderr",
     "output_type": "stream",
     "text": [
      "Checking connections block 16 with 17: 100%|██████████| 153/153 [02:24<00:00,  1.06it/s]\n",
      "Checking connections block 7 with 9:   6%|▋         | 373/5852 [00:02<00:41, 131.15it/s] \n",
      "Checking connections block 10 with 6:  12%|█▏        | 694/5700 [00:10<01:17, 64.54it/s]  \n",
      "Checking connections block 11 with 4:  12%|█▏        | 700/5852 [00:11<01:22, 62.33it/s]  \n",
      "Checking connections block 12 with 3:  12%|█▏        | 698/5852 [00:10<01:20, 64.28it/s]  \n",
      "Checking connections block 8 with 1:  69%|██████▉   | 4039/5852 [00:59<00:26, 67.52it/s]   \n",
      "Checking connections block 13 with 2:  78%|███████▊  | 4571/5852 [01:01<00:17, 74.73it/s]  \n",
      "Checking connections block 11 with 5:  90%|████████▉ | 5256/5852 [01:05<00:07, 80.69it/s]  \n",
      "Checking connections block 12 with 4:  93%|█████████▎| 5318/5700 [01:06<00:04, 80.25it/s]  \n",
      "Checking connections block 8 with 0:  95%|█████████▍| 5121/5402 [01:05<00:03, 78.67it/s]   \n",
      "Checking connections block 11 with 6: 100%|█████████▉| 5105/5112 [01:06<00:00, 77.28it/s]  \n",
      "Checking connections block 13 with 13: 100%|██████████| 4830/4830 [01:10<00:00, 68.99it/s] \n"
     ]
    },
    {
     "name": "stdout",
     "output_type": "stream",
     "text": [
      "checking connectivity\n",
      "gcd to use 4\n"
     ]
    },
    {
     "name": "stderr",
     "output_type": "stream",
     "text": [
      "Checking connections block 30 with 31: 100%|██████████| 496/496 [07:26<00:00,  1.11it/s]\n",
      "Checking connections block 0 with 10:   1%|          | 128/16512 [00:00<01:48, 150.77it/s] \n",
      "Checking connections block 1 with 11:   0%|          | 47/16256 [00:00<01:53, 142.41it/s]\n",
      "Checking connections block 14 with 6:   6%|▋         | 1048/16256 [00:14<03:31, 72.01it/s] \n",
      "Checking connections block 15 with 4:   6%|▋         | 1045/16256 [00:14<03:35, 70.43it/s] \n",
      "Checking connections block 16 with 3:   6%|▋         | 1042/16256 [00:14<03:36, 70.12it/s] \n",
      "Checking connections block 17 with 2:   6%|▋         | 1033/16002 [00:14<03:24, 73.28it/s] \n",
      "Checking connections block 24 with 24:  10%|▉         | 1560/15750 [00:19<02:56, 80.18it/s] \n",
      "Checking connections block 25 with 25:  10%|█         | 1535/15252 [00:19<02:52, 79.67it/s] \n",
      "Checking connections block 26 with 26:  14%|█▎        | 1994/14762 [00:31<03:18, 64.16it/s] \n",
      "Checking connections block 27 with 27:  52%|█████▏    | 7436/14280 [01:59<01:49, 62.40it/s] \n",
      "Checking connections block 28 with 28:  52%|█████▏    | 7195/13806 [01:58<01:48, 60.80it/s] \n",
      "Checking connections block 29 with 29:  52%|█████▏    | 6958/13340 [01:57<01:47, 59.31it/s] \n",
      "Checking connections block 30 with 30:  52%|█████▏    | 6725/12882 [01:56<01:46, 57.67it/s] \n",
      "Checking connections block 12 with 8:  64%|██████▍   | 8016/12432 [02:58<01:38, 44.90it/s]  \n",
      "Checking connections block 31 with 31:  65%|██████▍   | 8039/12432 [03:40<02:00, 36.49it/s] \n",
      "Checking connections block 13 with 9:  65%|██████▍   | 8026/12432 [03:36<01:58, 37.03it/s]  \n",
      "Checking connections block 1 with 10:  89%|████████▉ | 10877/12210 [04:26<00:32, 40.77it/s]  \n",
      "Checking connections block 14 with 7:  91%|█████████ | 10715/11772 [04:28<00:26, 39.88it/s]  \n",
      "Checking connections block 15 with 5:  92%|█████████▏| 10615/11556 [04:42<00:25, 37.59it/s]  \n",
      "Checking connections block 16 with 4:  92%|█████████▏| 10485/11342 [46:23<03:47,  3.77it/s]   \n",
      "Checking connections block 12 with 9:  95%|█████████▌| 10397/10920 [03:15<00:09, 53.21it/s]  \n",
      "Checking connections block 15 with 6: 100%|█████████▉| 10500/10506 [03:12<00:00, 54.68it/s]  \n",
      "Checking connections block 7 with 31: 100%|██████████| 10100/10100 [03:09<00:00, 53.30it/s] \n"
     ]
    }
   ],
   "source": [
    "find_connectivity(filename=\"stator_split\",nblades=55)\n",
    "find_connectivity(filename=\"rotor_split\",nblades=60)"
   ]
  },
  {
   "cell_type": "markdown",
   "metadata": {},
   "source": [
    "## Plotting the Connectivity Information in Paraview\n",
    "This tutorial was tested using Paraview 5.10.1. Different versions of paraview may not work. They keep changing things in the pvpython library that breaks compatibility with earlier versions. If there's a major update to paraview that you require support for for example version 6 or 5.20.1 then file a github issue and I'll take a look at it; but if it's 5.11.1 then no, because it's a minor update. Also feel free to submit fixes to pv_library.py for newer versions of paraview. \n",
    "\n",
    "There's 2 files that you need for plotting with paraview `pv_library.py` and `pv_stator_plot.py`. You will have to call paraview executable from within this directory using command prompt(windows)\n",
    "\n",
    "[![Watch the video](https://img.youtube.com/vi/bgSSJQolR0E/default.jpg)](https://www.youtube.com/watch?v=bgSSJQolR0E)\n",
    "\n",
    "\n",
    "\n",
    "1. Open command prompt in the directory containing `pv_stator_plot.py` and the `.xyz files`\n",
    "2. Find the path to paraview. For me it's this path: `\"C:\\Program Files\\ParaView 5.10.1-Windows-Python3.9-msvc2017-AMD64\\bin\\paraview.exe\" --script=pv_stator_plot.py`\n",
    "3. Hit [Enter] and this should load paraview and plot the connectivities from the pickle file. \n",
    "\n",
    "You can view the contents of `pv_stator_plot.py` to see how the connectivity information is structured. "
   ]
  },
  {
   "cell_type": "markdown",
   "metadata": {},
   "source": [
    "![stator paraview](stator_paraview.png)"
   ]
  },
  {
   "cell_type": "markdown",
   "metadata": {},
   "source": [
    "## Step 2: Identifying Blade and Mixing Plane Surfaces\n",
    "Now that the data is in paraview you can select the surfaces and identify which ones are the blade and mixing plane. \n",
    "\n",
    "Outerface[53] represents the blade surface and I want to select all the surfaces connected to it. The code to do this is show below. \n",
    "\n"
   ]
  },
  {
   "cell_type": "code",
   "execution_count": null,
   "metadata": {},
   "outputs": [],
   "source": []
  },
  {
   "cell_type": "markdown",
   "metadata": {},
   "source": [
    "## Step 3: Identify the mixing plane location \n",
    "The mixing plane which is the last surfaces at the end of the stator mesh contains outerface[34] I want to select all the outerfaces connected to that."
   ]
  },
  {
   "cell_type": "code",
   "execution_count": null,
   "metadata": {},
   "outputs": [],
   "source": []
  },
  {
   "cell_type": "markdown",
   "metadata": {},
   "source": [
    "# Applying Steps 2 and 3 to the rotor"
   ]
  },
  {
   "cell_type": "markdown",
   "metadata": {},
   "source": [
    "# Putting it all together\n",
    "The code below combines the connectivity, periodicity, surface information and exports it to a JSON file. "
   ]
  }
 ],
 "metadata": {
  "kernelspec": {
   "display_name": "Python 3.10.4 ('dev')",
   "language": "python",
   "name": "python3"
  },
  "language_info": {
   "codemirror_mode": {
    "name": "ipython",
    "version": 3
   },
   "file_extension": ".py",
   "mimetype": "text/x-python",
   "name": "python",
   "nbconvert_exporter": "python",
   "pygments_lexer": "ipython3",
   "version": "3.10.4"
  },
  "orig_nbformat": 4,
  "vscode": {
   "interpreter": {
    "hash": "4a044da88c5a9eacc92c27dda77751514e6feccdf99eb82b6312849b57b7fcec"
   }
  }
 },
 "nbformat": 4,
 "nbformat_minor": 2
}
