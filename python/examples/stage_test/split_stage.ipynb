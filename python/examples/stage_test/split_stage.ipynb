{
 "cells": [
  {
   "cell_type": "markdown",
   "metadata": {},
   "source": [
    "# Introduction \n",
    "In aerospace, we use plot3D files to represent the fluid domain around a geometry. This allows us to perform simulations and calculate flow physics inside of each cell/rectangle. Often the connectivity of these blocks are not easily obtainable. You would have to buy an expensive tool that will create the mesh and output some kind of connectivity file. Sometimes these files are proprietary which doesn't help research. This `plot3d` library in python can be used to find connectivity information and also split the blocks into smaller blocks for evaluation. \n",
    "\n",
    "**The goal with this project is to enable research and learning. You shouldn't need to purchase something expensive to calculate all this for you.**"
   ]
  },
  {
   "cell_type": "markdown",
   "metadata": {},
   "source": [
    "\n",
    "## Plot of Turbine Stage (Stator + Rotor Blocks)\n",
    "Below shows a plot in paraview of the `StageMesh.xyz` file. Each color represents a rectangular block with 6 sides. I've circled the blocks related to the stator and the blocks related to the rotor. It's important to plot this in paraview because this allows you to split the blocks into `Stator` blocks and `Rotor` blocks later. \n",
    "\n",
    "> Note: I am using paraview 5.10.1 to plot. Different versions of paraview may have differences in the way python macros are coded so you may see errors.\n",
    "\n",
    "![stage_mesh](stagemesh.png)\n"
   ]
  },
  {
   "cell_type": "markdown",
   "metadata": {},
   "source": [
    "## Objectives of this Notebook\n",
    "1. Split the blocks and find connectivity\n",
    "2. Identify surfaces that should be marked as solid\n",
    "3. Identify the mixing plane location \n",
    "\n",
    "![mixing plane](stage_mixing_plane.png)"
   ]
  },
  {
   "cell_type": "code",
   "execution_count": 1,
   "metadata": {},
   "outputs": [],
   "source": [
    "# Imports\n",
    "import sys\n",
    "from typing import List\n",
    "from plot3d import read_plot3D, connectivity_fast, rotated_periodicity, write_plot3D, Direction, split_blocks\n",
    "import os, pickle\n",
    "import numpy as np\n",
    "import json "
   ]
  },
  {
   "cell_type": "markdown",
   "metadata": {},
   "source": [
    "## Sanity Check Finding negative volumes. \n",
    "This should be done before doing anything else. A negative volume will certainly crash the solver."
   ]
  },
  {
   "cell_type": "code",
   "execution_count": 2,
   "metadata": {},
   "outputs": [
    {
     "name": "stdout",
     "output_type": "stream",
     "text": [
      "Reading mesh\n"
     ]
    },
    {
     "name": "stderr",
     "output_type": "stream",
     "text": [
      "Calculating the volumes: 100%|██████████| 76/76 [01:14<00:00,  1.02it/s]\n",
      "Calculating the volumes: 100%|██████████| 36/36 [00:07<00:00,  4.53it/s]\n",
      "Calculating the volumes: 100%|██████████| 36/36 [00:04<00:00,  7.72it/s]\n",
      "Calculating the volumes: 100%|██████████| 48/48 [01:12<00:00,  1.50s/it]\n",
      "Calculating the volumes: 100%|██████████| 76/76 [01:35<00:00,  1.26s/it]\n",
      "Calculating the volumes: 100%|██████████| 40/40 [00:08<00:00,  4.56it/s]\n",
      "Calculating the volumes: 100%|██████████| 40/40 [00:08<00:00,  4.57it/s]\n",
      "Calculating the volumes: 100%|██████████| 48/48 [01:32<00:00,  1.92s/it]\n",
      "Calculating the volumes: 100%|██████████| 116/116 [01:07<00:00,  1.71it/s]\n"
     ]
    }
   ],
   "source": [
    "mesh_filename = 'StageMesh.xyz'\n",
    "print(\"Reading mesh\")\n",
    "blocks = read_plot3D(mesh_filename,binary=True,big_endian=False)\n",
    "\n",
    "# This part checks for negative volumes \n",
    "lines = list() \n",
    "negative_volumes = False\n",
    "\n",
    "for i in range(len(blocks)):\n",
    "    v = blocks[i].cell_volumes()\n",
    "    if np.min(v)<0:\n",
    "        negative_volumes = True\n",
    "        lines.append(f'negative volume found in block number: {i} \\n')\n",
    "        print(lines[-1])\n",
    "\n",
    "if negative_volumes:\n",
    "    with open('negative_volume.txt', 'w') as f:\n",
    "        for line in lines:\n",
    "            f.write(line)\n",
    "            "
   ]
  },
  {
   "cell_type": "markdown",
   "metadata": {},
   "source": [
    "## Creating the mesh for stator and rotor\n",
    "In this step, what I did was plot the entire geometry in paraview then deactivated the blocks to figure out which blocks belonged to the stator and rotor.\n",
    "Blocks 0 to 3 are for the stator and the rest are the rotor. The code below splits the blocks and exports stator and rotor separately. "
   ]
  },
  {
   "cell_type": "code",
   "execution_count": 3,
   "metadata": {},
   "outputs": [],
   "source": [
    "stator_blocks = [blocks[i] for i in range(0,4)]\n",
    "rotor_blocks = [blocks[i] for i in range(4,len(blocks))]\n",
    "write_plot3D('stator.xyz',stator_blocks,binary=True)\n",
    "write_plot3D('rotor.xyz',rotor_blocks,binary=True)\n",
    "stator_blocks_split = split_blocks(stator_blocks,380000, direction=Direction.i) # Splits the blocks while keeping the gcd. 380,000 is a rough number that it tries to match\n",
    "rotor_blocks_split = split_blocks(rotor_blocks,380000, direction=Direction.i)\n",
    "write_plot3D('stator_split.xyz',stator_blocks_split,binary=True)\n",
    "write_plot3D('rotor_split.xyz',rotor_blocks_split,binary=True)"
   ]
  },
  {
   "cell_type": "markdown",
   "metadata": {},
   "source": [
    "## Step 1: Split the blocks and find the connectivity\n",
    "Splitting the blocks into smaller blocks can help the solver run much faster. To improve the time it takes to split and find connectivity/periodicity. You need to ensure each block of your original mesh is divisible by at least 4. The higher the greatest common divisor (gcd), the faster you get the connectivity information "
   ]
  },
  {
   "cell_type": "code",
   "execution_count": 4,
   "metadata": {},
   "outputs": [],
   "source": [
    "def find_connectivity(filename:str,nblades:int):\n",
    "    blocks = read_plot3D(f'{filename}.xyz',binary=True,big_endian=False)\n",
    "    # Finds the connectivity \n",
    "    if not os.path.exists(f'{filename}_connectivity.pickle'):\n",
    "        print('checking connectivity')\n",
    "        face_matches, outer_faces_formatted = connectivity_fast(blocks)\n",
    "        with open(f'{filename}_connectivity.pickle','wb') as f:\n",
    "            [m.pop('match',None) for m in face_matches] # Remove the dataframe\n",
    "            pickle.dump({\"face_matches\":face_matches, \"outer_faces\":outer_faces_formatted},f)\n",
    "\n",
    "\n",
    "    # Finds the periodicity once connectivity is found   \n",
    "    with open(f'{filename}_connectivity.pickle','rb') as f:\n",
    "        data = pickle.load(f)\n",
    "        face_matches = data['face_matches']\n",
    "        outer_faces = data['outer_faces']\n",
    "    \n",
    "    print(\"Find periodicity\")\n",
    "    rotation_angle = 360.0/nblades \n",
    "    periodic_surfaces, outer_faces_to_keep,periodic_faces,outer_faces = rotated_periodicity(blocks,face_matches,outer_faces,rotation_axis='x',rotation_angle=rotation_angle)\n",
    "\n",
    "    with open(f'{filename}_connectivity_periodicity.pickle','wb') as f:\n",
    "        [m.pop('match',None) for m in face_matches] # Remove the dataframe\n",
    "        pickle.dump({\n",
    "            \"face_matches\":face_matches,\n",
    "            \"periodic_faces\":periodic_surfaces,\n",
    "            \"outer_faces\":outer_faces_to_keep       \n",
    "            },f)"
   ]
  },
  {
   "cell_type": "code",
   "execution_count": 5,
   "metadata": {},
   "outputs": [
    {
     "name": "stdout",
     "output_type": "stream",
     "text": [
      "checking connectivity\n",
      "gcd to use 4\n"
     ]
    },
    {
     "name": "stderr",
     "output_type": "stream",
     "text": [
      "Checking connections block 16 with 17: 100%|██████████| 153/153 [02:24<00:00,  1.06it/s]\n"
     ]
    },
    {
     "name": "stdout",
     "output_type": "stream",
     "text": [
      "Find periodicity\n"
     ]
    },
    {
     "name": "stderr",
     "output_type": "stream",
     "text": [
      "Checking connections block 7 with 9:   6%|▋         | 373/5852 [00:02<00:39, 139.65it/s] \n",
      "Checking connections block 10 with 6:  12%|█▏        | 694/5700 [00:10<01:16, 65.04it/s]  \n",
      "Checking connections block 11 with 4:  12%|█▏        | 700/5852 [00:10<01:18, 65.90it/s]  \n",
      "Checking connections block 12 with 3:  12%|█▏        | 698/5852 [00:10<01:18, 65.57it/s]  \n",
      "Checking connections block 8 with 1:  69%|██████▉   | 4039/5852 [00:58<00:26, 69.23it/s]   \n",
      "Checking connections block 13 with 2:  78%|███████▊  | 4571/5852 [01:01<00:17, 74.81it/s]  \n",
      "Checking connections block 11 with 5:  90%|████████▉ | 5256/5852 [01:05<00:07, 79.95it/s]  \n",
      "Checking connections block 12 with 4:  93%|█████████▎| 5318/5700 [01:05<00:04, 81.31it/s]  \n",
      "Checking connections block 8 with 0:  95%|█████████▍| 5121/5402 [01:05<00:03, 77.84it/s]   \n",
      "Checking connections block 11 with 6:  97%|█████████▋| 5247/5402 [01:05<00:01, 79.85it/s]  \n",
      "Checking connections block 8 with 0: 100%|██████████| 5112/5112 [01:06<00:00, 76.89it/s]   \n"
     ]
    },
    {
     "name": "stdout",
     "output_type": "stream",
     "text": [
      "checking connectivity\n",
      "gcd to use 4\n"
     ]
    },
    {
     "name": "stderr",
     "output_type": "stream",
     "text": [
      "Checking connections block 29 with 30: 100%|██████████| 465/465 [06:49<00:00,  1.14it/s]\n"
     ]
    },
    {
     "name": "stdout",
     "output_type": "stream",
     "text": [
      "Find periodicity\n"
     ]
    },
    {
     "name": "stderr",
     "output_type": "stream",
     "text": [
      "Checking connections block 0 with 11:   0%|          | 78/16002 [00:00<01:27, 182.24it/s]\n",
      "Checking connections block 1 with 11:   1%|          | 124/15750 [00:00<01:18, 198.40it/s]\n",
      "Checking connections block 13 with 6:  11%|█         | 1635/15500 [00:27<03:51, 59.88it/s] \n",
      "Checking connections block 15 with 3:  11%|█         | 1636/15500 [00:27<03:54, 59.24it/s] \n",
      "Checking connections block 16 with 2:  11%|█         | 1635/15500 [00:27<03:50, 60.15it/s] \n",
      "Checking connections block 23 with 23:  12%|█▏        | 1784/15500 [00:27<03:31, 64.90it/s] \n",
      "Checking connections block 24 with 24:  12%|█▏        | 1755/15006 [00:27<03:30, 62.81it/s] \n",
      "Checking connections block 25 with 25:  12%|█▏        | 1726/14520 [00:27<03:22, 63.28it/s] \n",
      "Checking connections block 26 with 26:  12%|█▏        | 1697/14042 [00:28<03:27, 59.45it/s] \n",
      "Checking connections block 27 with 27:  12%|█▏        | 1668/13572 [00:27<03:13, 61.56it/s] \n",
      "Checking connections block 28 with 28:  13%|█▎        | 1640/13110 [00:27<03:11, 59.92it/s] \n",
      "Checking connections block 29 with 29:  13%|█▎        | 1609/12656 [00:26<03:05, 59.67it/s] \n",
      "Checking connections block 14 with 5:  18%|█▊        | 2216/12210 [00:29<02:11, 75.74it/s]  \n",
      "Checking connections block 30 with 30:  63%|██████▎   | 7561/11990 [02:15<01:19, 55.85it/s] \n",
      "Checking connections block 12 with 8:  62%|██████▏   | 7426/11990 [02:14<01:22, 55.02it/s]  \n",
      "Checking connections block 13 with 7:  91%|█████████ | 10914/11990 [02:57<00:17, 61.47it/s]  \n",
      "Checking connections block 15 with 4:  92%|█████████▏| 10814/11772 [02:56<00:15, 61.30it/s]  \n",
      "Checking connections block 16 with 3:  93%|█████████▎| 10592/11342 [03:03<00:13, 57.59it/s]  \n",
      "Checking connections block 14 with 6:  95%|█████████▌| 10393/10920 [02:56<00:08, 58.78it/s]  \n",
      "Checking connections block 12 with 9:  98%|█████████▊| 10316/10506 [02:57<00:03, 58.24it/s]  \n",
      "Checking connections block 13 with 8:  99%|█████████▉| 10199/10302 [02:55<00:01, 58.26it/s]  \n",
      "Checking connections block 12 with 30: 100%|██████████| 9900/9900 [02:55<00:00, 56.40it/s] \n"
     ]
    }
   ],
   "source": [
    "find_connectivity(filename=\"stator_split\",nblades=55)\n",
    "find_connectivity(filename=\"rotor_split\",nblades=60)"
   ]
  },
  {
   "cell_type": "markdown",
   "metadata": {},
   "source": [
    "## Plotting the Connectivity Information in Paraview\n",
    "This tutorial was tested using Paraview 5.10.1. Different versions of paraview may not work. They keep changing things in the pvpython library that breaks compatibility with earlier versions. If there's a major update to paraview that you require support for for example version 6 or 5.20.1 then file a github issue and I'll take a look at it; but if it's 5.11.1 then no, because it's a minor update. Also feel free to submit fixes to pv_library.py for newer versions of paraview. \n",
    "\n",
    "There's 2 files that you need for plotting with paraview `pv_library.py` and `pv_stator_plot.py`. You will have to call paraview executable from within this directory using command prompt(windows)\n",
    "\n",
    "[![Watch the video](https://img.youtube.com/vi/bgSSJQolR0E/default.jpg)](https://www.youtube.com/watch?v=bgSSJQolR0E)\n",
    "\n",
    "\n",
    "\n",
    "1. Open command prompt in the directory containing `pv_stator_plot.py` and the `.xyz files`\n",
    "2. Find the path to paraview. For me it's this path: `\"C:\\Program Files\\ParaView 5.10.1-Windows-Python3.9-msvc2017-AMD64\\bin\\paraview.exe\" --script=pv_stator_plot.py`\n",
    "3. Hit [Enter] and this should load paraview and plot the connectivities from the pickle file. \n",
    "\n",
    "You can view the contents of `pv_stator_plot.py` to see how the connectivity information is structured. "
   ]
  },
  {
   "cell_type": "markdown",
   "metadata": {},
   "source": [
    "![stator paraview](stator_paraview.png)"
   ]
  },
  {
   "cell_type": "markdown",
   "metadata": {},
   "source": [
    "## Step 2: Identifying key surfaces \n",
    "Now that the data is in paraview you can select the surfaces and identify which ones are the blade and mixing plane. \n",
    "\n",
    "**Blade surface** I use paraview to help identify the block and the surface (IMIN, JMIN, KMIN) In the code below you'll see where I've identified the stator_body, hub, and mixing plane. I do the same for the rotor. "
   ]
  },
  {
   "cell_type": "code",
   "execution_count": 3,
   "metadata": {},
   "outputs": [
    {
     "name": "stderr",
     "output_type": "stream",
     "text": [
      "Matches found 2: 100%|██████████| 71/71 [00:00<00:00, 1339.54it/s]\n",
      "Matches found 3: 100%|██████████| 69/69 [00:00<00:00, 1326.88it/s]\n",
      "Matches found 4: 100%|██████████| 69/69 [00:00<00:00, 1301.86it/s]\n",
      "Matches found 5: 100%|██████████| 68/68 [00:00<00:00, 971.39it/s]\n",
      "Matches found 6: 100%|██████████| 68/68 [00:00<00:00, 971.47it/s]\n",
      "Matches found 7: 100%|██████████| 66/66 [00:00<00:00, 1404.21it/s]\n",
      "Matches found 7: 100%|██████████| 66/66 [00:00<00:00, 1534.81it/s]\n",
      "Matches found 7: 100%|██████████| 66/66 [00:00<00:00, 1736.78it/s]\n",
      "Matches found 7: 100%|██████████| 66/66 [00:00<00:00, 1178.49it/s]\n",
      "Matches found 7: 100%|██████████| 64/64 [00:00<00:00, 1391.15it/s]\n",
      "Matches found 7: 100%|██████████| 64/64 [00:00<00:00, 1641.15it/s]\n",
      "Matches found 7: 100%|██████████| 64/64 [00:00<00:00, 1523.76it/s]\n",
      "Matches found 0: 100%|██████████| 63/63 [00:00<00:00, 1702.67it/s]\n",
      "Matches found 1: 100%|██████████| 62/62 [00:00<00:00, 1409.09it/s]\n",
      "Matches found 2: 100%|██████████| 61/61 [00:00<00:00, 1488.02it/s]\n",
      "Matches found 3: 100%|██████████| 60/60 [00:00<00:00, 1395.31it/s]\n",
      "Matches found 4: 100%|██████████| 59/59 [00:00<00:00, 1552.67it/s]\n",
      "Matches found 4: 100%|██████████| 59/59 [00:00<00:00, 1685.69it/s]\n",
      "Matches found 5: 100%|██████████| 58/58 [00:00<00:00, 1705.92it/s]\n",
      "Matches found 5: 100%|██████████| 58/58 [00:00<00:00, 983.00it/s]\n",
      "Matches found 5: 100%|██████████| 57/57 [00:00<00:00, 1036.38it/s]\n",
      "Matches found 5: 100%|██████████| 57/57 [00:00<00:00, 1425.46it/s]\n",
      "Matches found 6: 100%|██████████| 57/57 [00:00<00:00, 1540.51it/s]\n",
      "Matches found 6: 100%|██████████| 57/57 [00:00<00:00, 1499.90it/s]\n",
      "Matches found 6: 100%|██████████| 57/57 [00:00<00:00, 1117.64it/s]\n",
      "Matches found 7: 100%|██████████| 57/57 [00:00<00:00, 1424.96it/s]\n",
      "Matches found 7: 100%|██████████| 56/56 [00:00<00:00, 1513.48it/s]\n",
      "Matches found 7: 100%|██████████| 56/56 [00:00<00:00, 1217.47it/s]\n",
      "Matches found 7: 100%|██████████| 56/56 [00:00<00:00, 1018.19it/s]\n",
      "Matches found 7: 100%|██████████| 56/56 [00:00<00:00, 1436.11it/s]\n",
      "Matches found 0: 100%|██████████| 55/55 [00:00<00:00, 1222.12it/s]\n"
     ]
    }
   ],
   "source": [
    "from plot3d import Face, find_connected_face,find_face,read_plot3D\n",
    "import pickle\n",
    "import numpy as np \n",
    "# Stator \n",
    "blocks = read_plot3D('stator_split.xyz',binary=True)\n",
    "with open('stator_split_connectivity_periodicity.pickle','rb') as f:\n",
    "    data = pickle.load(f)\n",
    "    face_matches = data['face_matches']\n",
    "    outer_faces = data['outer_faces']\n",
    "\n",
    "# Stator body\n",
    "block_id = 14; indices = np.array([0,0,0,52,148,0], dtype=int) # this is the face we need to find matches for\n",
    "stator_face_to_match = find_face(blocks,block_id, indices,outer_faces)\n",
    "stator_faces,outer_faces = find_connected_face(blocks,stator_face_to_match, outer_faces)\n",
    "stator_faces.append(stator_face_to_match.to_dict())\n",
    "\n",
    "# Stator Hub\n",
    "block_id = 0; indices = np.array([0,0,0,32,0,76],dtype=int)\n",
    "stator_hub_to_match = find_face(blocks,block_id, indices,outer_faces)\n",
    "stator_hub, outer_faces = find_connected_face(blocks,stator_hub_to_match, outer_faces)\n",
    "stator_hub.append(stator_hub_to_match.to_dict())\n",
    "\n",
    "\n",
    "# Stator Shroud\n",
    "block_id = 0; indices = np.array([0,148,0,32,148,76],dtype=int)\n",
    "stator_shroud_to_match = find_face(blocks,block_id, indices,outer_faces)\n",
    "stator_shroud, outer_faces = find_connected_face(blocks,stator_shroud_to_match, outer_faces)\n",
    "stator_shroud.append(stator_shroud_to_match.to_dict())\n",
    "\n",
    "# Mixing Plane\n",
    "block_id = 9; indices = np.array([36, 0,0, 36,148,36], dtype=int)\n",
    "mixing_plane_face_to_match = find_face(blocks,block_id, indices,outer_faces)\n",
    "stator_mixing_plane_faces, outer_faces = find_connected_face(blocks,stator_face_to_match, outer_faces)\n",
    "stator_mixing_plane_faces.append(stator_face_to_match.to_dict())\n",
    "\n",
    "data['outer_faces'] = outer_faces\n",
    "data['mixing_plane'] = stator_mixing_plane_faces\n",
    "data['stator_body'] = stator_faces\n",
    "data['stator_shroud'] = stator_shroud\n",
    "data['stator_hub'] = stator_hub\n",
    "\n",
    "with open('stator_split_connectivity_final.pickle','wb') as f:\n",
    "    pickle.dump(data, f, protocol=pickle.HIGHEST_PROTOCOL)\n"
   ]
  },
  {
   "cell_type": "code",
   "execution_count": 4,
   "metadata": {},
   "outputs": [
    {
     "name": "stderr",
     "output_type": "stream",
     "text": [
      "Matches found 1: 100%|██████████| 99/99 [00:00<00:00, 1500.66it/s]\n",
      "Matches found 1: 100%|██████████| 98/98 [00:00<00:00, 1441.18it/s]\n",
      "Matches found 0: 100%|██████████| 98/98 [00:00<00:00, 1507.67it/s]\n",
      "Matches found 1: 100%|██████████| 97/97 [00:00<00:00, 1644.53it/s]\n",
      "Matches found 2: 100%|██████████| 96/96 [00:00<00:00, 1314.90it/s]\n",
      "Matches found 3: 100%|██████████| 95/95 [00:00<00:00, 1507.88it/s]\n",
      "Matches found 4: 100%|██████████| 94/94 [00:00<00:00, 1468.73it/s]\n",
      "Matches found 4: 100%|██████████| 94/94 [00:00<00:00, 1620.74it/s]\n",
      "Matches found 5: 100%|██████████| 93/93 [00:00<00:00, 1690.86it/s]\n",
      "Matches found 5: 100%|██████████| 93/93 [00:00<00:00, 920.79it/s]\n",
      "Matches found 5: 100%|██████████| 92/92 [00:00<00:00, 1373.15it/s]\n",
      "Matches found 5: 100%|██████████| 92/92 [00:00<00:00, 1483.86it/s]\n",
      "Matches found 6: 100%|██████████| 92/92 [00:00<00:00, 1108.43it/s]\n",
      "Matches found 6: 100%|██████████| 92/92 [00:00<00:00, 1533.30it/s]\n",
      "Matches found 6: 100%|██████████| 92/92 [00:00<00:00, 1642.80it/s]\n",
      "Matches found 7: 100%|██████████| 92/92 [00:00<00:00, 1703.68it/s]\n",
      "Matches found 7: 100%|██████████| 91/91 [00:00<00:00, 1083.33it/s]\n",
      "Matches found 7: 100%|██████████| 91/91 [00:00<00:00, 1421.85it/s]\n",
      "Matches found 7: 100%|██████████| 91/91 [00:00<00:00, 1400.11it/s]\n",
      "Matches found 8: 100%|██████████| 91/91 [00:00<00:00, 1378.72it/s]\n",
      "Matches found 8: 100%|██████████| 90/90 [00:00<00:00, 1285.68it/s]\n",
      "Matches found 8: 100%|██████████| 90/90 [00:00<00:00, 1249.99it/s]\n",
      "Matches found 8: 100%|██████████| 90/90 [00:00<00:00, 1034.45it/s]\n",
      "Matches found 9: 100%|██████████| 90/90 [00:00<00:00, 957.42it/s]\n",
      "Matches found 9: 100%|██████████| 89/89 [00:00<00:00, 1219.13it/s]\n",
      "Matches found 9: 100%|██████████| 89/89 [00:00<00:00, 1390.62it/s]\n",
      "Matches found 10: 100%|██████████| 89/89 [00:00<00:00, 1219.18it/s]\n",
      "Matches found 10: 100%|██████████| 89/89 [00:00<00:00, 1289.83it/s]\n",
      "Matches found 10: 100%|██████████| 89/89 [00:00<00:00, 1253.49it/s]\n",
      "Matches found 10: 100%|██████████| 88/88 [00:00<00:00, 1086.36it/s]\n",
      "Matches found 10: 100%|██████████| 88/88 [00:00<00:00, 1491.52it/s]\n",
      "Matches found 10: 100%|██████████| 88/88 [00:00<00:00, 1375.02it/s]\n",
      "Matches found 10: 100%|██████████| 88/88 [00:00<00:00, 1692.26it/s]\n",
      "Matches found 10: 100%|██████████| 88/88 [00:00<00:00, 1491.45it/s]\n",
      "Matches found 0: 100%|██████████| 87/87 [00:00<00:00, 1380.91it/s]\n"
     ]
    }
   ],
   "source": [
    "# Rotor\n",
    "blocks = read_plot3D('rotor_split.xyz',binary=True)\n",
    "with open('rotor_split_connectivity_periodicity.pickle','rb') as f:\n",
    "    data = pickle.load(f)\n",
    "    face_matches = data['face_matches']\n",
    "    outer_faces = data['outer_faces']\n",
    "\n",
    "# Mixing Plane\n",
    "block_id = 0; indices = np.array([0,0,0,0,148,76], dtype=int) # this is the face we need to find matches for\n",
    "rotor_mixing_plane_face_to_match = find_face(blocks,block_id, indices,outer_faces)\n",
    "rotor_mixing_plane_faces, outer_faces = find_connected_face(blocks,rotor_mixing_plane_face_to_match, outer_faces)# Should match with block 10 [0,0,0,0,148,52]\n",
    "rotor_mixing_plane_faces.append(rotor_mixing_plane_face_to_match.to_dict())  \n",
    "\n",
    "# Rotor body\n",
    "block_id = 15; indices = np.array([0,0,0,52,148,0],dtype=int)\n",
    "rotor_face_to_match = find_face(blocks,block_id, indices,outer_faces)\n",
    "rotor_faces, outer_faces = find_connected_face(blocks,rotor_mixing_plane_face_to_match, outer_faces)\n",
    "rotor_faces.append(rotor_face_to_match.to_dict())\n",
    "\n",
    "# Rotor Hub\n",
    "block_id = 0; indices = np.array([0,148,0,32,148,76],dtype=int)\n",
    "rotor_hub_to_match = find_face(blocks,block_id, indices,outer_faces)\n",
    "rotor_hub, outer_faces = find_connected_face(blocks,rotor_hub_to_match, outer_faces)\n",
    "rotor_hub.append(rotor_hub_to_match.to_dict())\n",
    "\n",
    "# Rotor Shroud\n",
    "block_id = 0; indices = np.array([0,0,0,32,0,76],dtype=int)\n",
    "rotor_shroud_to_match = find_face(blocks,block_id, indices,outer_faces)\n",
    "rotor_shroud, outer_faces = find_connected_face(blocks,rotor_hub_to_match, outer_faces)\n",
    "rotor_shroud.append(rotor_shroud_to_match.to_dict())\n",
    "\n",
    "data['outer_faces'] = outer_faces\n",
    "data['mixing_plane'] = rotor_mixing_plane_faces\n",
    "data['rotor_body'] = rotor_faces\n",
    "data['rotor_hub'] = rotor_hub\n",
    "data['rotor_shroud'] = rotor_shroud\n",
    "\n",
    "with open('rotor_split_connectivity_final.pickle','wb') as f:\n",
    "    pickle.dump(data, f, protocol=pickle.HIGHEST_PROTOCOL)"
   ]
  },
  {
   "cell_type": "markdown",
   "metadata": {},
   "source": [
    "# Putting it all together\n",
    "The code below combines the connectivity, periodicity, surface information and exports it to a JSON file. "
   ]
  }
 ],
 "metadata": {
  "kernelspec": {
   "display_name": "Python 3.10.4 ('dev')",
   "language": "python",
   "name": "python3"
  },
  "language_info": {
   "codemirror_mode": {
    "name": "ipython",
    "version": 3
   },
   "file_extension": ".py",
   "mimetype": "text/x-python",
   "name": "python",
   "nbconvert_exporter": "python",
   "pygments_lexer": "ipython3",
   "version": "3.10.4"
  },
  "orig_nbformat": 4,
  "vscode": {
   "interpreter": {
    "hash": "4a044da88c5a9eacc92c27dda77751514e6feccdf99eb82b6312849b57b7fcec"
   }
  }
 },
 "nbformat": 4,
 "nbformat_minor": 2
}
